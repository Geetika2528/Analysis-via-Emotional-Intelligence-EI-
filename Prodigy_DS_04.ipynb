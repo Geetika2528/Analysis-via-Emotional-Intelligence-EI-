{
 "cells": [
  {
   "cell_type": "code",
   "execution_count": 9,
   "id": "7db5f376",
   "metadata": {},
   "outputs": [
    {
     "name": "stdout",
     "output_type": "stream",
     "text": [
      "     2401  Borderlands  Positive  \\\n",
      "0  2401.0  Borderlands  Positive   \n",
      "1  2401.0  Borderlands  Positive   \n",
      "2  2401.0  Borderlands  Positive   \n",
      "3  2401.0  Borderlands  Positive   \n",
      "4  2401.0  Borderlands  Positive   \n",
      "\n",
      "  im getting on borderlands and i will murder you all ,  3364 Facebook  \\\n",
      "0  I am coming to the borders and I will kill you...      NaN      NaN   \n",
      "1  im getting on borderlands and i will kill you ...      NaN      NaN   \n",
      "2  im coming on borderlands and i will murder you...      NaN      NaN   \n",
      "3  im getting on borderlands 2 and i will murder ...      NaN      NaN   \n",
      "4  im getting into borderlands and i can murder y...      NaN      NaN   \n",
      "\n",
      "  Irrelevant  \\\n",
      "0        NaN   \n",
      "1        NaN   \n",
      "2        NaN   \n",
      "3        NaN   \n",
      "4        NaN   \n",
      "\n",
      "  I mentioned on Facebook that I was struggling for motivation to go for a run the other day, which has been translated by Tom’s great auntie as ‘Hayley can’t get out of bed’ and told to his grandma, who now thinks I’m a lazy, terrible person 🤣  \n",
      "0                                                NaN                                                                                                                                                                                                  \n",
      "1                                                NaN                                                                                                                                                                                                  \n",
      "2                                                NaN                                                                                                                                                                                                  \n",
      "3                                                NaN                                                                                                                                                                                                  \n",
      "4                                                NaN                                                                                                                                                                                                  \n"
     ]
    },
    {
     "ename": "ModuleNotFoundError",
     "evalue": "No module named 'vaderSentiment'",
     "output_type": "error",
     "traceback": [
      "\u001b[1;31m---------------------------------------------------------------------------\u001b[0m",
      "\u001b[1;31mModuleNotFoundError\u001b[0m                       Traceback (most recent call last)",
      "Cell \u001b[1;32mIn[9], line 13\u001b[0m\n\u001b[0;32m     10\u001b[0m data \u001b[38;5;241m=\u001b[39m data\u001b[38;5;241m.\u001b[39mdropna()\n\u001b[0;32m     11\u001b[0m data\u001b[38;5;241m.\u001b[39mhead()\n\u001b[1;32m---> 13\u001b[0m \u001b[38;5;28;01mfrom\u001b[39;00m \u001b[38;5;21;01mvaderSentiment\u001b[39;00m\u001b[38;5;21;01m.\u001b[39;00m\u001b[38;5;21;01mvaderSentiment\u001b[39;00m \u001b[38;5;28;01mimport\u001b[39;00m SentimentIntensityAnalyzer\n\u001b[0;32m     14\u001b[0m \u001b[38;5;28;01mdef\u001b[39;00m \u001b[38;5;21mget_sentiment\u001b[39m(text):\n\u001b[0;32m     15\u001b[0m     sia \u001b[38;5;241m=\u001b[39m SentimentIntensityAnalyzer()\n",
      "\u001b[1;31mModuleNotFoundError\u001b[0m: No module named 'vaderSentiment'"
     ]
    }
   ],
   "source": [
    "import pandas as pd\n",
    "train_file_path = r\"C:\\Users\\ASUS\\Prodigy_InfoTech\\Sentiment Analysis\\twitter_training.csv\"\n",
    "validation_file_path = r\"C:\\Users\\ASUS\\Prodigy_InfoTech\\Sentiment Analysis\\twitter_validation.csv\"\n",
    "\n",
    "train_data = pd.read_csv(train_file_path)\n",
    "validation_data = pd.read_csv(validation_file_path)\n",
    "data = pd.concat([train_data, validation_data])\n",
    "print(data.head())\n",
    "data.isnull().sum()\n",
    "data = data.dropna()\n",
    "data.head()\n",
    "\n",
    "from vaderSentiment.vaderSentiment import SentimentIntensityAnalyzer\n",
    "def get_sentiment(text):\n",
    "    sia = SentimentIntensityAnalyzer()\n",
    "    sentiment_scores = sia.polarity_scores(text)\n",
    "    return sentiment_scores['compound']\n",
    "\n",
    "import matplotlib.pyplot as plt\n",
    "import seaborn as sns\n",
    "sns.set(style='whitegrid')\n",
    "plt.figure(figsize=(10, 6))\n",
    "sns.histplot(data['Sentiment'], kde=True, bins=30)\n",
    "plt.title('Distribution of Sentiment Scores')\n",
    "plt.xlabel('Sentiment Score')\n",
    "plt.ylabel('Frequency')\n",
    "plt.show()\n",
    "if 'Tweet At' in data.columns:\n",
    "    data['Tweet At'] = pd.to_datetime(data['Tweet At'])\n",
    "    plt.figure(figsize=(14, 7))\n",
    "    sns.lineplot(x='Tweet At', y='Sentiment', data=data)\n",
    "    plt.title('Sentiment Scores Over Time')\n",
    "    plt.xlabel('Time')\n",
    "    plt.ylabel('Sentiment Score')\n",
    "    plt.show()"
   ]
  },
  {
   "cell_type": "code",
   "execution_count": null,
   "id": "02285a03",
   "metadata": {},
   "outputs": [],
   "source": []
  }
 ],
 "metadata": {
  "kernelspec": {
   "display_name": "Python 3 (ipykernel)",
   "language": "python",
   "name": "python3"
  },
  "language_info": {
   "codemirror_mode": {
    "name": "ipython",
    "version": 3
   },
   "file_extension": ".py",
   "mimetype": "text/x-python",
   "name": "python",
   "nbconvert_exporter": "python",
   "pygments_lexer": "ipython3",
   "version": "3.11.5"
  }
 },
 "nbformat": 4,
 "nbformat_minor": 5
}
